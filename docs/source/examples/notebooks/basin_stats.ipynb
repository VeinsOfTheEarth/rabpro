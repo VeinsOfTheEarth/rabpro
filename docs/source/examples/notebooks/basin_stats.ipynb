{
 "cells": [
  {
   "cell_type": "markdown",
   "id": "29d0acb0-6cec-480a-aa11-26819ddd8f5e",
   "metadata": {},
   "source": [
    "# Basin stats examples"
   ]
  },
  {
   "cell_type": "markdown",
   "id": "65016b80",
   "metadata": {},
   "source": [
    "Generating basin stats from Earth Engine imagery is challenged by the many different ways in which image assets are stored and organized on the platform. As such, we have tried to strike a balance with `rabpro` between ease of use (abstracting away unncessary details) and flexibility. Before we begin pulling basin stats, lets create a basin polygon asset:"
   ]
  },
  {
   "cell_type": "code",
   "execution_count": 2,
   "id": "62c76a29-b436-4734-8f38-b02d66a6f8bf",
   "metadata": {},
   "outputs": [],
   "source": [
    "import pandas as pd\n",
    "import geopandas as gpd\n",
    "\n",
    "import rabpro\n",
    "from rabpro.basin_stats import Dataset"
   ]
  },
  {
   "cell_type": "code",
   "execution_count": 3,
   "id": "5014f92f-b97e-4696-a992-48fc6a2f02f2",
   "metadata": {},
   "outputs": [],
   "source": [
    "# # Authenticate earthengine if necessary\n",
    "import ee\n",
    "# ee.Authenticate()\n",
    "ee.Initialize()"
   ]
  },
  {
   "cell_type": "code",
   "execution_count": 4,
   "id": "e7c4989f-3114-4c0f-829e-bf9650c80a60",
   "metadata": {},
   "outputs": [],
   "source": [
    "%%capture\n",
    "coords = (44.9331, -69.4996)\n",
    "rpo = rabpro.profiler(coords, name='basic_test')\n",
    "rpo.delineate_basin()\n",
    "gdf = rpo.watershed"
   ]
  },
  {
   "cell_type": "markdown",
   "id": "3221cf37",
   "metadata": {},
   "source": [
    "The next several examples pull from imagery assets that are within the standard GEE data catalog (https://developers.google.com/earth-engine/datasets/). This simplifies their queries as we (typically) do not need to specify projection or resolution information. These are read directly from the catalog:"
   ]
  },
  {
   "cell_type": "markdown",
   "id": "f830ffb8-5bbc-4f11-afbf-6852b8863163",
   "metadata": {},
   "source": [
    "### Categorical asset - a single time window"
   ]
  },
  {
   "cell_type": "code",
   "execution_count": 4,
   "id": "9cdb5c8b-7d1a-4da5-b2c7-64a6ca53f763",
   "metadata": {},
   "outputs": [
    {
     "data": {
      "text/html": [
       "<div>\n",
       "<style scoped>\n",
       "    .dataframe tbody tr th:only-of-type {\n",
       "        vertical-align: middle;\n",
       "    }\n",
       "\n",
       "    .dataframe tbody tr th {\n",
       "        vertical-align: top;\n",
       "    }\n",
       "\n",
       "    .dataframe thead th {\n",
       "        text-align: right;\n",
       "    }\n",
       "</style>\n",
       "<table border=\"1\" class=\"dataframe\">\n",
       "  <thead>\n",
       "    <tr style=\"text-align: right;\">\n",
       "      <th></th>\n",
       "      <th>lulc_1</th>\n",
       "      <th>lulc_17</th>\n",
       "      <th>lulc_4</th>\n",
       "      <th>lulc_5</th>\n",
       "      <th>lulc_8</th>\n",
       "      <th>da_km2</th>\n",
       "      <th>geometry</th>\n",
       "    </tr>\n",
       "  </thead>\n",
       "  <tbody>\n",
       "    <tr>\n",
       "      <th>0</th>\n",
       "      <td>1.87451</td>\n",
       "      <td>16.337255</td>\n",
       "      <td>621.25098</td>\n",
       "      <td>1143.831373</td>\n",
       "      <td>262.792157</td>\n",
       "      <td>440.266532</td>\n",
       "      <td>POLYGON ((-69.49583 44.92500, -69.50417 44.92500, -69.50502 44.92832, -69.50833 44.92917, -69.54...</td>\n",
       "    </tr>\n",
       "  </tbody>\n",
       "</table>\n",
       "</div>"
      ],
      "text/plain": [
       "    lulc_1    lulc_17     lulc_4       lulc_5      lulc_8      da_km2  \\\n",
       "0  1.87451  16.337255  621.25098  1143.831373  262.792157  440.266532   \n",
       "\n",
       "                                                                                              geometry  \n",
       "0  POLYGON ((-69.49583 44.92500, -69.50417 44.92500, -69.50502 44.92832, -69.50833 44.92917, -69.54...  "
      ]
     },
     "execution_count": 4,
     "metadata": {},
     "output_type": "execute_result"
    }
   ],
   "source": [
    "urls, tasks = rabpro.basin_stats.compute(\n",
    "        [Dataset(\"MODIS/006/MCD12Q1\", \"LC_Type1\", stats=[\"freqhist\"], start=\"2010-01-01\", end=\"2011-01-01\")],\n",
    "        validate_dataset_list=False,\n",
    "        gee_feature_path=\"users/jstacompute/rpo_basic\"\n",
    "    )\n",
    "data = rabpro.basin_stats.fetch_gee(urls, [\"lulc\"], [\"system:index\"])\n",
    "res = gpd.GeoDataFrame(pd.concat([data, gdf], axis=1))\n",
    "res.head()"
   ]
  },
  {
   "cell_type": "markdown",
   "id": "e41b2eb4-9d54-408b-9c77-3060336eb4fd",
   "metadata": {},
   "source": [
    "### Numeric asset - multiple time windows"
   ]
  },
  {
   "cell_type": "code",
   "execution_count": 5,
   "id": "a3190267",
   "metadata": {},
   "outputs": [],
   "source": [
    "urls, tasks = rabpro.basin_stats.compute(\n",
    "        [Dataset(\"MODIS/006/MOD17A3HGF\", \"Npp\")],\n",
    "        validate_dataset_list=False,\n",
    "        gee_feature_path=\"users/jstacompute/rpo_basic\"\n",
    "    )\n",
    "data = rabpro.basin_stats.fetch_gee(urls, [\"npp\"], [\"da_km2\"])"
   ]
  },
  {
   "cell_type": "code",
   "execution_count": 6,
   "id": "384eed50",
   "metadata": {},
   "outputs": [
    {
     "data": {
      "text/html": [
       "<div>\n",
       "<style scoped>\n",
       "    .dataframe tbody tr th:only-of-type {\n",
       "        vertical-align: middle;\n",
       "    }\n",
       "\n",
       "    .dataframe tbody tr th {\n",
       "        vertical-align: top;\n",
       "    }\n",
       "\n",
       "    .dataframe thead th {\n",
       "        text-align: right;\n",
       "    }\n",
       "</style>\n",
       "<table border=\"1\" class=\"dataframe\">\n",
       "  <thead>\n",
       "    <tr style=\"text-align: right;\">\n",
       "      <th></th>\n",
       "      <th>npp_system:index</th>\n",
       "      <th>npp_mean</th>\n",
       "      <th>year</th>\n",
       "      <th>da_km2</th>\n",
       "      <th>geometry</th>\n",
       "    </tr>\n",
       "  </thead>\n",
       "  <tbody>\n",
       "    <tr>\n",
       "      <th>0</th>\n",
       "      <td>2000_02_18_00000000000000000000</td>\n",
       "      <td>7436.137468</td>\n",
       "      <td>2000</td>\n",
       "      <td>440.266532</td>\n",
       "      <td>POLYGON ((-69.49583 44.92500, -69.50417 44.92500, -69.50502 44.92832, -69.50833 44.92917, -69.54...</td>\n",
       "    </tr>\n",
       "    <tr>\n",
       "      <th>1</th>\n",
       "      <td>2001_01_01_00000000000000000000</td>\n",
       "      <td>7253.867450</td>\n",
       "      <td>2001</td>\n",
       "      <td>NaN</td>\n",
       "      <td>POLYGON ((-69.49583 44.92500, -69.50417 44.92500, -69.50502 44.92832, -69.50833 44.92917, -69.54...</td>\n",
       "    </tr>\n",
       "    <tr>\n",
       "      <th>2</th>\n",
       "      <td>2002_01_01_00000000000000000000</td>\n",
       "      <td>6741.378228</td>\n",
       "      <td>2002</td>\n",
       "      <td>NaN</td>\n",
       "      <td>POLYGON ((-69.49583 44.92500, -69.50417 44.92500, -69.50502 44.92832, -69.50833 44.92917, -69.54...</td>\n",
       "    </tr>\n",
       "    <tr>\n",
       "      <th>3</th>\n",
       "      <td>2003_01_01_00000000000000000000</td>\n",
       "      <td>6565.773486</td>\n",
       "      <td>2003</td>\n",
       "      <td>NaN</td>\n",
       "      <td>POLYGON ((-69.49583 44.92500, -69.50417 44.92500, -69.50502 44.92832, -69.50833 44.92917, -69.54...</td>\n",
       "    </tr>\n",
       "    <tr>\n",
       "      <th>4</th>\n",
       "      <td>2004_01_01_00000000000000000000</td>\n",
       "      <td>7645.184775</td>\n",
       "      <td>2004</td>\n",
       "      <td>NaN</td>\n",
       "      <td>POLYGON ((-69.49583 44.92500, -69.50417 44.92500, -69.50502 44.92832, -69.50833 44.92917, -69.54...</td>\n",
       "    </tr>\n",
       "  </tbody>\n",
       "</table>\n",
       "</div>"
      ],
      "text/plain": [
       "                  npp_system:index     npp_mean  year      da_km2  \\\n",
       "0  2000_02_18_00000000000000000000  7436.137468  2000  440.266532   \n",
       "1  2001_01_01_00000000000000000000  7253.867450  2001         NaN   \n",
       "2  2002_01_01_00000000000000000000  6741.378228  2002         NaN   \n",
       "3  2003_01_01_00000000000000000000  6565.773486  2003         NaN   \n",
       "4  2004_01_01_00000000000000000000  7645.184775  2004         NaN   \n",
       "\n",
       "                                                                                              geometry  \n",
       "0  POLYGON ((-69.49583 44.92500, -69.50417 44.92500, -69.50502 44.92832, -69.50833 44.92917, -69.54...  \n",
       "1  POLYGON ((-69.49583 44.92500, -69.50417 44.92500, -69.50502 44.92832, -69.50833 44.92917, -69.54...  \n",
       "2  POLYGON ((-69.49583 44.92500, -69.50417 44.92500, -69.50502 44.92832, -69.50833 44.92917, -69.54...  \n",
       "3  POLYGON ((-69.49583 44.92500, -69.50417 44.92500, -69.50502 44.92832, -69.50833 44.92917, -69.54...  \n",
       "4  POLYGON ((-69.49583 44.92500, -69.50417 44.92500, -69.50502 44.92832, -69.50833 44.92917, -69.54...  "
      ]
     },
     "execution_count": 6,
     "metadata": {},
     "output_type": "execute_result"
    }
   ],
   "source": [
    "data[\"year\"] = [x for x in range(2000, 2000 + data.shape[0])]\n",
    "res = gpd.GeoDataFrame(pd.concat([data, gdf], axis=1))\n",
    "res.geometry[res.geometry.isna()] = res.geometry[0]\n",
    "res.head()"
   ]
  },
  {
   "cell_type": "markdown",
   "id": "a5f4e196-be27-4e38-b22d-88bc74dfbf1d",
   "metadata": {},
   "source": [
    "### Numeric asset - time averaging"
   ]
  },
  {
   "cell_type": "code",
   "execution_count": 7,
   "id": "1aaa35a2-376a-4c94-9784-1fa439783303",
   "metadata": {},
   "outputs": [
    {
     "data": {
      "text/html": [
       "<div>\n",
       "<style scoped>\n",
       "    .dataframe tbody tr th:only-of-type {\n",
       "        vertical-align: middle;\n",
       "    }\n",
       "\n",
       "    .dataframe tbody tr th {\n",
       "        vertical-align: top;\n",
       "    }\n",
       "\n",
       "    .dataframe thead th {\n",
       "        text-align: right;\n",
       "    }\n",
       "</style>\n",
       "<table border=\"1\" class=\"dataframe\">\n",
       "  <thead>\n",
       "    <tr style=\"text-align: right;\">\n",
       "      <th></th>\n",
       "      <th>npp_mean</th>\n",
       "      <th>da_km2</th>\n",
       "      <th>geometry</th>\n",
       "    </tr>\n",
       "  </thead>\n",
       "  <tbody>\n",
       "    <tr>\n",
       "      <th>0</th>\n",
       "      <td>7238.642484</td>\n",
       "      <td>440.266532</td>\n",
       "      <td>POLYGON ((-69.49583 44.92500, -69.50417 44.92500, -69.50502 44.92832, -69.50833 44.92917, -69.54...</td>\n",
       "    </tr>\n",
       "  </tbody>\n",
       "</table>\n",
       "</div>"
      ],
      "text/plain": [
       "      npp_mean      da_km2  \\\n",
       "0  7238.642484  440.266532   \n",
       "\n",
       "                                                                                              geometry  \n",
       "0  POLYGON ((-69.49583 44.92500, -69.50417 44.92500, -69.50502 44.92832, -69.50833 44.92917, -69.54...  "
      ]
     },
     "execution_count": 7,
     "metadata": {},
     "output_type": "execute_result"
    }
   ],
   "source": [
    "urls, tasks = rabpro.basin_stats.compute(\n",
    "        [Dataset(\"MODIS/061/MOD17A3HGF\", \"Npp\", time_stats=[\"median\"])],        \n",
    "        gee_feature_path=\"users/jstacompute/rpo_basic\"\n",
    "    )\n",
    "data = rabpro.basin_stats.fetch_gee(urls, [\"npp\"], [\"system:index\"])\n",
    "res = gpd.GeoDataFrame(pd.concat([data, gdf], axis=1))\n",
    "res.head()"
   ]
  },
  {
   "cell_type": "markdown",
   "id": "879b9f06",
   "metadata": {},
   "source": [
    "The final example here demonstates a query of a \"custom\" imagery asset which is not present in the GEE data catalog. As a result, we must specify additional information to the `compute` function:"
   ]
  },
  {
   "cell_type": "code",
   "execution_count": 7,
   "id": "0e4d5e69",
   "metadata": {},
   "outputs": [
    {
     "data": {
      "text/html": [
       "<div>\n",
       "<style scoped>\n",
       "    .dataframe tbody tr th:only-of-type {\n",
       "        vertical-align: middle;\n",
       "    }\n",
       "\n",
       "    .dataframe tbody tr th {\n",
       "        vertical-align: top;\n",
       "    }\n",
       "\n",
       "    .dataframe thead th {\n",
       "        text-align: right;\n",
       "    }\n",
       "</style>\n",
       "<table border=\"1\" class=\"dataframe\">\n",
       "  <thead>\n",
       "    <tr style=\"text-align: right;\">\n",
       "      <th></th>\n",
       "      <th>soc5_mean</th>\n",
       "      <th>da_km2</th>\n",
       "      <th>geometry</th>\n",
       "    </tr>\n",
       "  </thead>\n",
       "  <tbody>\n",
       "    <tr>\n",
       "      <th>0</th>\n",
       "      <td>2407.976065</td>\n",
       "      <td>440.266532</td>\n",
       "      <td>POLYGON ((-69.49583 44.92500, -69.50417 44.92500, -69.50502 44.92832, -69.50833 44.92917, -69.54...</td>\n",
       "    </tr>\n",
       "  </tbody>\n",
       "</table>\n",
       "</div>"
      ],
      "text/plain": [
       "     soc5_mean      da_km2  \\\n",
       "0  2407.976065  440.266532   \n",
       "\n",
       "                                                                                              geometry  \n",
       "0  POLYGON ((-69.49583 44.92500, -69.50417 44.92500, -69.50502 44.92832, -69.50833 44.92917, -69.54...  "
      ]
     },
     "execution_count": 7,
     "metadata": {},
     "output_type": "execute_result"
    }
   ],
   "source": [
    "urls, tasks = rabpro.basin_stats.compute(\n",
    "        [Dataset(\"projects/soilgrids-isric/soc_mean\", \"soc_0-5cm_mean\", gee_type=\"image\")],\n",
    "        validate_dataset_list=False,\n",
    "        gee_feature_path=\"users/jstacompute/rpo_basic\"\n",
    "    )\n",
    "data = rabpro.basin_stats.fetch_gee(urls, [\"soc5\"], [\"system:index\"])\n",
    "res = gpd.GeoDataFrame(pd.concat([data, gdf], axis=1))\n",
    "res.head()"
   ]
  }
 ],
 "metadata": {
  "kernelspec": {
   "display_name": "rabpro",
   "language": "python",
   "name": "rabpro"
  },
  "language_info": {
   "codemirror_mode": {
    "name": "ipython",
    "version": 3
   },
   "file_extension": ".py",
   "mimetype": "text/x-python",
   "name": "python",
   "nbconvert_exporter": "python",
   "pygments_lexer": "ipython3",
   "version": "3.9.16"
  }
 },
 "nbformat": 4,
 "nbformat_minor": 5
}
